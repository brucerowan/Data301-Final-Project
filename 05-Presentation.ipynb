{
 "cells": [
  {
   "cell_type": "markdown",
   "metadata": {},
   "source": [
    "# Introduction\n",
    "\n",
    "The pupose of this project was to find a classification model to predict whether or not a US citizen makes above or below the average salary amount.\n",
    "\n",
    "This dataset was uploaded onto Kaggle by the UCI ML repository. The data consisits of over 32,000 records of many interesting variables scrapped from the US census.\n"
   ]
  },
  {
   "cell_type": "markdown",
   "metadata": {},
   "source": [
    "# Import"
   ]
  },
  {
   "cell_type": "code",
   "execution_count": 1,
   "metadata": {
    "collapsed": false
   },
   "outputs": [
    {
     "name": "stderr",
     "output_type": "stream",
     "text": [
      "/opt/conda/lib/python3.5/site-packages/sklearn/cross_validation.py:44: DeprecationWarning: This module was deprecated in version 0.18 in favor of the model_selection module into which all the refactored classes and functions are moved. Also note that the interface of the new CV iterators are different from that of this module. This module will be removed in 0.20.\n",
      "  \"This module will be removed in 0.20.\", DeprecationWarning)\n"
     ]
    }
   ],
   "source": [
    "import pandas as pd\n",
    "import numpy as np\n",
    "from sklearn.model_selection import cross_val_score\n",
    "from sklearn.model_selection import train_test_split\n",
    "from sklearn.naive_bayes import GaussianNB\n",
    "from sklearn.cross_validation import cross_val_score\n",
    "from sklearn.ensemble import RandomForestClassifier\n",
    "from sklearn.linear_model import LogisticRegression\n",
    "from sklearn import svm\n",
    "from sklearn import metrics\n",
    "from sklearn.metrics import accuracy_score\n",
    "import zipfile\n",
    "from ipywidgets import interact, fixed\n",
    "from IPython.display import display\n",
    "import seaborn as sns\n",
    "import matplotlib.pyplot as plt\n",
    "from altair import *"
   ]
  },
  {
   "cell_type": "code",
   "execution_count": 2,
   "metadata": {
    "collapsed": false
   },
   "outputs": [
    {
     "data": {
      "text/html": [
       "<div>\n",
       "<table border=\"1\" class=\"dataframe\">\n",
       "  <thead>\n",
       "    <tr style=\"text-align: right;\">\n",
       "      <th></th>\n",
       "      <th>age</th>\n",
       "      <th>workclass</th>\n",
       "      <th>fnlwgt</th>\n",
       "      <th>education</th>\n",
       "      <th>education.num</th>\n",
       "      <th>marital.status</th>\n",
       "      <th>occupation</th>\n",
       "      <th>relationship</th>\n",
       "      <th>race</th>\n",
       "      <th>sex</th>\n",
       "      <th>capital.gain</th>\n",
       "      <th>capital.loss</th>\n",
       "      <th>hours.per.week</th>\n",
       "      <th>native.country</th>\n",
       "      <th>income</th>\n",
       "    </tr>\n",
       "  </thead>\n",
       "  <tbody>\n",
       "    <tr>\n",
       "      <th>0</th>\n",
       "      <td>90</td>\n",
       "      <td>?</td>\n",
       "      <td>77053</td>\n",
       "      <td>HS-grad</td>\n",
       "      <td>9</td>\n",
       "      <td>Widowed</td>\n",
       "      <td>?</td>\n",
       "      <td>Not-in-family</td>\n",
       "      <td>White</td>\n",
       "      <td>Female</td>\n",
       "      <td>0</td>\n",
       "      <td>4356</td>\n",
       "      <td>40</td>\n",
       "      <td>United-States</td>\n",
       "      <td>&lt;=50K</td>\n",
       "    </tr>\n",
       "    <tr>\n",
       "      <th>1</th>\n",
       "      <td>82</td>\n",
       "      <td>Private</td>\n",
       "      <td>132870</td>\n",
       "      <td>HS-grad</td>\n",
       "      <td>9</td>\n",
       "      <td>Widowed</td>\n",
       "      <td>Exec-managerial</td>\n",
       "      <td>Not-in-family</td>\n",
       "      <td>White</td>\n",
       "      <td>Female</td>\n",
       "      <td>0</td>\n",
       "      <td>4356</td>\n",
       "      <td>18</td>\n",
       "      <td>United-States</td>\n",
       "      <td>&lt;=50K</td>\n",
       "    </tr>\n",
       "    <tr>\n",
       "      <th>2</th>\n",
       "      <td>66</td>\n",
       "      <td>?</td>\n",
       "      <td>186061</td>\n",
       "      <td>Some-college</td>\n",
       "      <td>10</td>\n",
       "      <td>Widowed</td>\n",
       "      <td>?</td>\n",
       "      <td>Unmarried</td>\n",
       "      <td>Black</td>\n",
       "      <td>Female</td>\n",
       "      <td>0</td>\n",
       "      <td>4356</td>\n",
       "      <td>40</td>\n",
       "      <td>United-States</td>\n",
       "      <td>&lt;=50K</td>\n",
       "    </tr>\n",
       "    <tr>\n",
       "      <th>3</th>\n",
       "      <td>54</td>\n",
       "      <td>Private</td>\n",
       "      <td>140359</td>\n",
       "      <td>7th-8th</td>\n",
       "      <td>4</td>\n",
       "      <td>Divorced</td>\n",
       "      <td>Machine-op-inspct</td>\n",
       "      <td>Unmarried</td>\n",
       "      <td>White</td>\n",
       "      <td>Female</td>\n",
       "      <td>0</td>\n",
       "      <td>3900</td>\n",
       "      <td>40</td>\n",
       "      <td>United-States</td>\n",
       "      <td>&lt;=50K</td>\n",
       "    </tr>\n",
       "    <tr>\n",
       "      <th>4</th>\n",
       "      <td>41</td>\n",
       "      <td>Private</td>\n",
       "      <td>264663</td>\n",
       "      <td>Some-college</td>\n",
       "      <td>10</td>\n",
       "      <td>Separated</td>\n",
       "      <td>Prof-specialty</td>\n",
       "      <td>Own-child</td>\n",
       "      <td>White</td>\n",
       "      <td>Female</td>\n",
       "      <td>0</td>\n",
       "      <td>3900</td>\n",
       "      <td>40</td>\n",
       "      <td>United-States</td>\n",
       "      <td>&lt;=50K</td>\n",
       "    </tr>\n",
       "  </tbody>\n",
       "</table>\n",
       "</div>"
      ],
      "text/plain": [
       "   age workclass  fnlwgt     education  education.num marital.status  \\\n",
       "0   90         ?   77053       HS-grad              9        Widowed   \n",
       "1   82   Private  132870       HS-grad              9        Widowed   \n",
       "2   66         ?  186061  Some-college             10        Widowed   \n",
       "3   54   Private  140359       7th-8th              4       Divorced   \n",
       "4   41   Private  264663  Some-college             10      Separated   \n",
       "\n",
       "          occupation   relationship   race     sex  capital.gain  \\\n",
       "0                  ?  Not-in-family  White  Female             0   \n",
       "1    Exec-managerial  Not-in-family  White  Female             0   \n",
       "2                  ?      Unmarried  Black  Female             0   \n",
       "3  Machine-op-inspct      Unmarried  White  Female             0   \n",
       "4     Prof-specialty      Own-child  White  Female             0   \n",
       "\n",
       "   capital.loss  hours.per.week native.country income  \n",
       "0          4356              40  United-States  <=50K  \n",
       "1          4356              18  United-States  <=50K  \n",
       "2          4356              40  United-States  <=50K  \n",
       "3          3900              40  United-States  <=50K  \n",
       "4          3900              40  United-States  <=50K  "
      ]
     },
     "execution_count": 2,
     "metadata": {},
     "output_type": "execute_result"
    }
   ],
   "source": [
    "zFile = !ls /data/brucerowan/ \n",
    "with zipfile.ZipFile('/data/brucerowan/'+zFile[1],'r') as zf:\n",
    "    df = pd.read_csv(zf.open('adult.csv'))\n",
    "df.head()"
   ]
  },
  {
   "cell_type": "markdown",
   "metadata": {},
   "source": [
    "# Tidy\n",
    "\n",
    "The missing values in the dataset were set to '?' so I changed them to nans. After seeing I would still have 30,000 rows I decided to just drop all of the nans from the data set.\n",
    "\n",
    "I changed marital.status to mStatus and native.country to nCountry, because having periods in variable names caused problems when graphing. \n",
    "\n",
    "I also couldn't make sense of how the relationship variable was different than marital status so I've decided to drop that column."
   ]
  },
  {
   "cell_type": "code",
   "execution_count": 3,
   "metadata": {
    "collapsed": false
   },
   "outputs": [
    {
     "data": {
      "text/html": [
       "<div>\n",
       "<table border=\"1\" class=\"dataframe\">\n",
       "  <thead>\n",
       "    <tr style=\"text-align: right;\">\n",
       "      <th></th>\n",
       "      <th>age</th>\n",
       "      <th>workclass</th>\n",
       "      <th>fnlwgt</th>\n",
       "      <th>education</th>\n",
       "      <th>education.num</th>\n",
       "      <th>occupation</th>\n",
       "      <th>race</th>\n",
       "      <th>sex</th>\n",
       "      <th>capital.gain</th>\n",
       "      <th>capital.loss</th>\n",
       "      <th>hours.per.week</th>\n",
       "      <th>income</th>\n",
       "      <th>mStatus</th>\n",
       "      <th>nCountry</th>\n",
       "      <th>&gt;50K</th>\n",
       "    </tr>\n",
       "  </thead>\n",
       "  <tbody>\n",
       "    <tr>\n",
       "      <th>1</th>\n",
       "      <td>82</td>\n",
       "      <td>Private</td>\n",
       "      <td>132870</td>\n",
       "      <td>HS-grad</td>\n",
       "      <td>9</td>\n",
       "      <td>Exec-managerial</td>\n",
       "      <td>White</td>\n",
       "      <td>Female</td>\n",
       "      <td>0</td>\n",
       "      <td>4356</td>\n",
       "      <td>18</td>\n",
       "      <td>&lt;=50K</td>\n",
       "      <td>Widowed</td>\n",
       "      <td>United-States</td>\n",
       "      <td>0</td>\n",
       "    </tr>\n",
       "    <tr>\n",
       "      <th>3</th>\n",
       "      <td>54</td>\n",
       "      <td>Private</td>\n",
       "      <td>140359</td>\n",
       "      <td>7th-8th</td>\n",
       "      <td>4</td>\n",
       "      <td>Machine-op-inspct</td>\n",
       "      <td>White</td>\n",
       "      <td>Female</td>\n",
       "      <td>0</td>\n",
       "      <td>3900</td>\n",
       "      <td>40</td>\n",
       "      <td>&lt;=50K</td>\n",
       "      <td>Divorced</td>\n",
       "      <td>United-States</td>\n",
       "      <td>0</td>\n",
       "    </tr>\n",
       "    <tr>\n",
       "      <th>4</th>\n",
       "      <td>41</td>\n",
       "      <td>Private</td>\n",
       "      <td>264663</td>\n",
       "      <td>Some-college</td>\n",
       "      <td>10</td>\n",
       "      <td>Prof-specialty</td>\n",
       "      <td>White</td>\n",
       "      <td>Female</td>\n",
       "      <td>0</td>\n",
       "      <td>3900</td>\n",
       "      <td>40</td>\n",
       "      <td>&lt;=50K</td>\n",
       "      <td>Separated</td>\n",
       "      <td>United-States</td>\n",
       "      <td>0</td>\n",
       "    </tr>\n",
       "    <tr>\n",
       "      <th>5</th>\n",
       "      <td>34</td>\n",
       "      <td>Private</td>\n",
       "      <td>216864</td>\n",
       "      <td>HS-grad</td>\n",
       "      <td>9</td>\n",
       "      <td>Other-service</td>\n",
       "      <td>White</td>\n",
       "      <td>Female</td>\n",
       "      <td>0</td>\n",
       "      <td>3770</td>\n",
       "      <td>45</td>\n",
       "      <td>&lt;=50K</td>\n",
       "      <td>Divorced</td>\n",
       "      <td>United-States</td>\n",
       "      <td>0</td>\n",
       "    </tr>\n",
       "    <tr>\n",
       "      <th>6</th>\n",
       "      <td>38</td>\n",
       "      <td>Private</td>\n",
       "      <td>150601</td>\n",
       "      <td>10th</td>\n",
       "      <td>6</td>\n",
       "      <td>Adm-clerical</td>\n",
       "      <td>White</td>\n",
       "      <td>Male</td>\n",
       "      <td>0</td>\n",
       "      <td>3770</td>\n",
       "      <td>40</td>\n",
       "      <td>&lt;=50K</td>\n",
       "      <td>Separated</td>\n",
       "      <td>United-States</td>\n",
       "      <td>0</td>\n",
       "    </tr>\n",
       "  </tbody>\n",
       "</table>\n",
       "</div>"
      ],
      "text/plain": [
       "   age workclass  fnlwgt     education  education.num         occupation  \\\n",
       "1   82   Private  132870       HS-grad              9    Exec-managerial   \n",
       "3   54   Private  140359       7th-8th              4  Machine-op-inspct   \n",
       "4   41   Private  264663  Some-college             10     Prof-specialty   \n",
       "5   34   Private  216864       HS-grad              9      Other-service   \n",
       "6   38   Private  150601          10th              6       Adm-clerical   \n",
       "\n",
       "    race     sex  capital.gain  capital.loss  hours.per.week income  \\\n",
       "1  White  Female             0          4356              18  <=50K   \n",
       "3  White  Female             0          3900              40  <=50K   \n",
       "4  White  Female             0          3900              40  <=50K   \n",
       "5  White  Female             0          3770              45  <=50K   \n",
       "6  White    Male             0          3770              40  <=50K   \n",
       "\n",
       "     mStatus       nCountry  >50K  \n",
       "1    Widowed  United-States     0  \n",
       "3   Divorced  United-States     0  \n",
       "4  Separated  United-States     0  \n",
       "5   Divorced  United-States     0  \n",
       "6  Separated  United-States     0  "
      ]
     },
     "execution_count": 3,
     "metadata": {},
     "output_type": "execute_result"
    }
   ],
   "source": [
    "df.replace('?', np.nan, inplace=True)\n",
    "\n",
    "df['mStatus']=df['marital.status']\n",
    "df=df.drop('marital.status', axis=1)\n",
    "df['nCountry']=df['native.country']\n",
    "df=df.drop('native.country', axis=1)\n",
    "\n",
    "#one hot encode income \n",
    "Over_fifty= pd.get_dummies(df['income'], drop_first=True)\n",
    "Tidy= df.join(Over_fifty)\n",
    "Tidy=Tidy.dropna()\n",
    "Tidy=Tidy.drop('relationship', axis=1)\n",
    "Tidy.head()"
   ]
  },
  {
   "cell_type": "markdown",
   "metadata": {},
   "source": [
    "### Preprocessing (One Hot Encoding)\n",
    "The process of transforming a single category into seperate columns of 0's and 1's."
   ]
  },
  {
   "cell_type": "code",
   "execution_count": 4,
   "metadata": {
    "collapsed": false
   },
   "outputs": [],
   "source": [
    "df=Tidy\n",
    "Tidy=Tidy.drop('income', axis=1)\n",
    "\n",
    "#1 hot encode native country (nan dropped)\n",
    "Native= pd.get_dummies(Tidy['nCountry'], drop_first=True)\n",
    "Native\n",
    "Clean= Tidy.join(Native)\n",
    "Clean=Clean.drop('nCountry',axis=1)\n",
    "\n",
    "#1 hot encode sex(females dropped)\n",
    "Male= pd.get_dummies(df['sex'], drop_first=True)\n",
    "Clean= Clean.join(Male)\n",
    "Clean=Clean.drop('sex',axis=1)\n",
    "\n",
    "#1 hot encode Race (Amer-Indian-Eskimo dropped)\n",
    "Race = pd.get_dummies(df['race'],drop_first=True)\n",
    "Clean= Clean.join(Race)\n",
    "Clean=Clean.drop('race',axis=1)\n",
    "\n",
    "#1 hot encoding occupation\n",
    "Occupation = pd.get_dummies(df['occupation'],drop_first=True)\n",
    "Clean= Clean.join(Occupation)\n",
    "Clean=Clean.drop('occupation',axis=1)\n",
    "\n",
    "#Table of one hot encoded Marital Status\n",
    "MS=pd.get_dummies(df['mStatus'],drop_first=True)\n",
    "Clean= Clean.join(MS)\n",
    "Clean=Clean.drop('mStatus',axis=1)\n",
    "\n",
    "Clean=Clean.drop('education',axis=1)\n",
    "\n",
    "#Table of one hot encoded classes \n",
    "Classes=pd.get_dummies(df['workclass'],drop_first=True)\n",
    "Clean= Clean.join(Classes)\n",
    "Clean=Clean.drop('workclass',axis=1)\n",
    "\n",
    "#For Presentation Purposes \n",
    "processed= Clean"
   ]
  },
  {
   "cell_type": "markdown",
   "metadata": {},
   "source": [
    "## Examining the number of records in each category of Income level"
   ]
  },
  {
   "cell_type": "code",
   "execution_count": 5,
   "metadata": {
    "collapsed": false
   },
   "outputs": [
    {
     "data": {
      "text/html": [
       "<div>\n",
       "<table border=\"1\" class=\"dataframe\">\n",
       "  <thead>\n",
       "    <tr style=\"text-align: right;\">\n",
       "      <th></th>\n",
       "      <th>age</th>\n",
       "      <th>workclass</th>\n",
       "      <th>fnlwgt</th>\n",
       "      <th>education</th>\n",
       "      <th>education.num</th>\n",
       "      <th>occupation</th>\n",
       "      <th>race</th>\n",
       "      <th>sex</th>\n",
       "      <th>capital.gain</th>\n",
       "      <th>capital.loss</th>\n",
       "      <th>hours.per.week</th>\n",
       "      <th>income</th>\n",
       "      <th>mStatus</th>\n",
       "      <th>nCountry</th>\n",
       "      <th>&gt;50K</th>\n",
       "    </tr>\n",
       "  </thead>\n",
       "  <tbody>\n",
       "    <tr>\n",
       "      <th>1</th>\n",
       "      <td>82</td>\n",
       "      <td>Private</td>\n",
       "      <td>132870</td>\n",
       "      <td>HS-grad</td>\n",
       "      <td>9</td>\n",
       "      <td>Exec-managerial</td>\n",
       "      <td>White</td>\n",
       "      <td>Female</td>\n",
       "      <td>0</td>\n",
       "      <td>4356</td>\n",
       "      <td>18</td>\n",
       "      <td>&lt;=50K</td>\n",
       "      <td>Widowed</td>\n",
       "      <td>United-States</td>\n",
       "      <td>0</td>\n",
       "    </tr>\n",
       "    <tr>\n",
       "      <th>3</th>\n",
       "      <td>54</td>\n",
       "      <td>Private</td>\n",
       "      <td>140359</td>\n",
       "      <td>7th-8th</td>\n",
       "      <td>4</td>\n",
       "      <td>Machine-op-inspct</td>\n",
       "      <td>White</td>\n",
       "      <td>Female</td>\n",
       "      <td>0</td>\n",
       "      <td>3900</td>\n",
       "      <td>40</td>\n",
       "      <td>&lt;=50K</td>\n",
       "      <td>Divorced</td>\n",
       "      <td>United-States</td>\n",
       "      <td>0</td>\n",
       "    </tr>\n",
       "    <tr>\n",
       "      <th>4</th>\n",
       "      <td>41</td>\n",
       "      <td>Private</td>\n",
       "      <td>264663</td>\n",
       "      <td>Some-college</td>\n",
       "      <td>10</td>\n",
       "      <td>Prof-specialty</td>\n",
       "      <td>White</td>\n",
       "      <td>Female</td>\n",
       "      <td>0</td>\n",
       "      <td>3900</td>\n",
       "      <td>40</td>\n",
       "      <td>&lt;=50K</td>\n",
       "      <td>Separated</td>\n",
       "      <td>United-States</td>\n",
       "      <td>0</td>\n",
       "    </tr>\n",
       "    <tr>\n",
       "      <th>5</th>\n",
       "      <td>34</td>\n",
       "      <td>Private</td>\n",
       "      <td>216864</td>\n",
       "      <td>HS-grad</td>\n",
       "      <td>9</td>\n",
       "      <td>Other-service</td>\n",
       "      <td>White</td>\n",
       "      <td>Female</td>\n",
       "      <td>0</td>\n",
       "      <td>3770</td>\n",
       "      <td>45</td>\n",
       "      <td>&lt;=50K</td>\n",
       "      <td>Divorced</td>\n",
       "      <td>United-States</td>\n",
       "      <td>0</td>\n",
       "    </tr>\n",
       "    <tr>\n",
       "      <th>6</th>\n",
       "      <td>38</td>\n",
       "      <td>Private</td>\n",
       "      <td>150601</td>\n",
       "      <td>10th</td>\n",
       "      <td>6</td>\n",
       "      <td>Adm-clerical</td>\n",
       "      <td>White</td>\n",
       "      <td>Male</td>\n",
       "      <td>0</td>\n",
       "      <td>3770</td>\n",
       "      <td>40</td>\n",
       "      <td>&lt;=50K</td>\n",
       "      <td>Separated</td>\n",
       "      <td>United-States</td>\n",
       "      <td>0</td>\n",
       "    </tr>\n",
       "  </tbody>\n",
       "</table>\n",
       "</div>"
      ],
      "text/plain": [
       "   age workclass  fnlwgt     education  education.num         occupation  \\\n",
       "1   82   Private  132870       HS-grad              9    Exec-managerial   \n",
       "3   54   Private  140359       7th-8th              4  Machine-op-inspct   \n",
       "4   41   Private  264663  Some-college             10     Prof-specialty   \n",
       "5   34   Private  216864       HS-grad              9      Other-service   \n",
       "6   38   Private  150601          10th              6       Adm-clerical   \n",
       "\n",
       "    race     sex  capital.gain  capital.loss  hours.per.week income  \\\n",
       "1  White  Female             0          4356              18  <=50K   \n",
       "3  White  Female             0          3900              40  <=50K   \n",
       "4  White  Female             0          3900              40  <=50K   \n",
       "5  White  Female             0          3770              45  <=50K   \n",
       "6  White    Male             0          3770              40  <=50K   \n",
       "\n",
       "     mStatus       nCountry  >50K  \n",
       "1    Widowed  United-States     0  \n",
       "3   Divorced  United-States     0  \n",
       "4  Separated  United-States     0  \n",
       "5   Divorced  United-States     0  \n",
       "6  Separated  United-States     0  "
      ]
     },
     "execution_count": 5,
     "metadata": {},
     "output_type": "execute_result"
    }
   ],
   "source": [
    "df.head()"
   ]
  },
  {
   "cell_type": "code",
   "execution_count": null,
   "metadata": {
    "collapsed": false
   },
   "outputs": [
    {
     "data": {
      "text/html": [
       "<div class=\"vega-embed\" id=\"e72b91c5-5988-4ea3-90b0-2706c70ea040\"></div>\n",
       "\n",
       "<style>\n",
       ".vega-embed svg, .vega-embed canvas {\n",
       "  border: 1px dotted gray;\n",
       "}\n",
       "\n",
       ".vega-embed .vega-actions a {\n",
       "  margin-right: 6px;\n",
       "}\n",
       "</style>\n"
      ]
     },
     "metadata": {
      "jupyter-vega": "#e72b91c5-5988-4ea3-90b0-2706c70ea040"
     },
     "output_type": "display_data"
    }
   ],
   "source": [
    "Chart(df).mark_bar().encode(\n",
    "    X('income'),\n",
    "    Y('count(*)')\n",
    ")"
   ]
  },
  {
   "cell_type": "markdown",
   "metadata": {},
   "source": [
    "It was a little strange seeing how uneven the data was, given that the median salary of the U.S. is about 50k. After doing more research on the dataset I figured it may be because the creators of the dataset pulled an equal amount of records from each state without putting a weight on each states populations. "
   ]
  },
  {
   "cell_type": "markdown",
   "metadata": {},
   "source": [
    "## Examining correlations between variables and making over 50k"
   ]
  },
  {
   "cell_type": "code",
   "execution_count": null,
   "metadata": {
    "collapsed": false
   },
   "outputs": [],
   "source": [
    "cors= processed.corrwith(processed['>50K'])\n",
    "print(\"Highest positive correlations:\")\n",
    "print(cors.sort_values(axis=0, ascending=False).head(16))\n",
    "print(\"\\nLowest negative correlations:\")\n",
    "print(cors.sort_values(axis=0, ascending=True).head(15))"
   ]
  },
  {
   "cell_type": "markdown",
   "metadata": {},
   "source": [
    "### Reduce dataset to only correlations above 0.05"
   ]
  },
  {
   "cell_type": "code",
   "execution_count": null,
   "metadata": {
    "collapsed": false
   },
   "outputs": [],
   "source": [
    "x=[]\n",
    "for i in range(len(cors)):\n",
    "    if(abs(cors[i])>0.07):\n",
    "        x.append(processed.columns[i])\n",
    "\n",
    "Features = processed[x]\n",
    "Features.head()"
   ]
  },
  {
   "cell_type": "markdown",
   "metadata": {},
   "source": [
    "## Corrrelation Matrix / HeatMap"
   ]
  },
  {
   "cell_type": "code",
   "execution_count": null,
   "metadata": {
    "collapsed": false
   },
   "outputs": [],
   "source": [
    "corr = Features.corr()\n",
    "sns.heatmap(corr)\n",
    "plt.show()"
   ]
  },
  {
   "cell_type": "markdown",
   "metadata": {},
   "source": [
    "## Examining Marital Status on income"
   ]
  },
  {
   "cell_type": "code",
   "execution_count": null,
   "metadata": {
    "collapsed": false
   },
   "outputs": [],
   "source": [
    "Chart(df).mark_bar().encode(\n",
    "    Y('mStatus',sort=SortField(field='>50K', op='mean', order='descending')),\n",
    "    X('count(*):Q'),\n",
    "    Color('income', scale=Scale(range=['red','green']))\n",
    ")"
   ]
  },
  {
   "cell_type": "markdown",
   "metadata": {},
   "source": [
    "## Examining the income level when grouped by sex"
   ]
  },
  {
   "cell_type": "code",
   "execution_count": null,
   "metadata": {
    "collapsed": false
   },
   "outputs": [],
   "source": [
    "Chart(df).mark_bar().encode(\n",
    "    X('sex'),\n",
    "    Y('count(*):Q'),\n",
    "    Color('income', scale=Scale(range=['red','green']))       \n",
    ")"
   ]
  },
  {
   "cell_type": "markdown",
   "metadata": {},
   "source": [
    "## Effects of age on income"
   ]
  },
  {
   "cell_type": "code",
   "execution_count": null,
   "metadata": {
    "collapsed": false
   },
   "outputs": [],
   "source": [
    "Chart(df).mark_bar().encode(\n",
    "    X('age'),\n",
    "    Y('count(*):Q'),\n",
    "    Color('income', scale=Scale(range=['red','green']))\n",
    ")"
   ]
  },
  {
   "cell_type": "markdown",
   "metadata": {},
   "source": [
    "## Function to make graphs in Altiar \n",
    "   \n",
    "Returns a Bar Chart relating any explanitory variable to the target.\n",
    "\n",
    "Sorted by the proportion size of people who make over 50k"
   ]
  },
  {
   "cell_type": "code",
   "execution_count": null,
   "metadata": {
    "collapsed": true
   },
   "outputs": [],
   "source": [
    "def Graph(col):\n",
    "    '''\n",
    "    Simple function to create color coated bar charts in Altiar relating any variable and the income classification  \n",
    "    '''\n",
    "    return Chart(df).mark_bar().encode(\n",
    "              X(col,sort=SortField(field='>50K', op='mean', order='descending')),\n",
    "              Y('count(*):Q'),\n",
    "              Color('income', scale=Scale(range=['red','green']))       \n",
    "    )\n",
    "\n",
    "#saving the column names as a list \n",
    "variables=list(df)"
   ]
  },
  {
   "cell_type": "code",
   "execution_count": null,
   "metadata": {
    "collapsed": false
   },
   "outputs": [],
   "source": [
    "interact(Graph,col=variables)"
   ]
  },
  {
   "cell_type": "code",
   "execution_count": null,
   "metadata": {
    "collapsed": false
   },
   "outputs": [],
   "source": [
    "cors= processed.corrwith(df['>50K'])\n",
    "print(\"Highest positive correlations:\")\n",
    "print(cors.sort_values(axis=0, ascending=False).head(16))\n",
    "print(\"\\nLowest negative correlations:\")\n",
    "print(cors.sort_values(axis=0, ascending=True).head(15))"
   ]
  },
  {
   "cell_type": "markdown",
   "metadata": {},
   "source": [
    "## Creating DataFrame of Features\n",
    "\n",
    "Adding all columns with a correlation absolute value greater than 0.1.\n",
    "\n",
    "I didn't run a grid search but I ran through each algorithm with several correlations and this was the most sucessful.\n",
    "\n",
    "Target is income >50k"
   ]
  },
  {
   "cell_type": "code",
   "execution_count": null,
   "metadata": {
    "collapsed": false
   },
   "outputs": [],
   "source": [
    "x=[]\n",
    "for i in range(len(cors)):\n",
    "    if(abs(cors[i])>0.1):\n",
    "        x.append(processed.columns[i])\n",
    "\n",
    "Features = processed[x]\n",
    "Features=Features.drop('>50K',axis=1)\n",
    "Features=Features.drop('Never-married', axis=1)\n",
    "\n",
    "Target= df['>50K']\n",
    "Features.head()"
   ]
  },
  {
   "cell_type": "markdown",
   "metadata": {},
   "source": [
    "## Test/Train Split"
   ]
  },
  {
   "cell_type": "code",
   "execution_count": null,
   "metadata": {
    "collapsed": false
   },
   "outputs": [],
   "source": [
    "Xtrain, Xtest, ytrain, ytest = train_test_split(Features, Target, random_state=0, train_size=0.7)"
   ]
  },
  {
   "cell_type": "markdown",
   "metadata": {},
   "source": [
    "## Null Error Rate"
   ]
  },
  {
   "cell_type": "code",
   "execution_count": null,
   "metadata": {
    "collapsed": false
   },
   "outputs": [],
   "source": [
    "1-Target.mean()"
   ]
  },
  {
   "cell_type": "markdown",
   "metadata": {},
   "source": [
    "This means that we can correctly predict 75% of our dataset just by picking less than. Hopefully we can create a model that does better than that. "
   ]
  },
  {
   "cell_type": "markdown",
   "metadata": {},
   "source": [
    "## Gaussian Naive-Bayes Classifier"
   ]
  },
  {
   "cell_type": "markdown",
   "metadata": {},
   "source": [
    "Good starting classifier because it trains very fast. However, our accuracy score wasn't much higher than the Null Error Rate."
   ]
  },
  {
   "cell_type": "code",
   "execution_count": null,
   "metadata": {
    "collapsed": false
   },
   "outputs": [],
   "source": [
    "model1 = GaussianNB()\n",
    "model1.fit(Xtrain, ytrain)\n",
    "\n",
    "predicted=model1.predict(Xtest)\n",
    "accuracy_score(predicted,ytest)"
   ]
  },
  {
   "cell_type": "code",
   "execution_count": null,
   "metadata": {
    "collapsed": false
   },
   "outputs": [],
   "source": [
    "scores=cross_val_score(model1, Features, Target, cv=5)\n",
    "scores"
   ]
  },
  {
   "cell_type": "code",
   "execution_count": null,
   "metadata": {
    "collapsed": false
   },
   "outputs": [],
   "source": [
    "print(\"mean: \",scores.mean())"
   ]
  },
  {
   "cell_type": "markdown",
   "metadata": {},
   "source": [
    "## Random Forest Classifier"
   ]
  },
  {
   "cell_type": "code",
   "execution_count": null,
   "metadata": {
    "collapsed": false
   },
   "outputs": [],
   "source": [
    "model2 = RandomForestClassifier(n_estimators=100)\n",
    "model2.fit(Xtrain, ytrain)\n",
    "\n",
    "predicted=model2.predict(Xtest)\n",
    "accuracy_score(predicted,ytest)"
   ]
  },
  {
   "cell_type": "code",
   "execution_count": null,
   "metadata": {
    "collapsed": false
   },
   "outputs": [],
   "source": [
    "scores=cross_val_score(model2, Features, Target, cv=5)\n",
    "scores"
   ]
  },
  {
   "cell_type": "code",
   "execution_count": null,
   "metadata": {
    "collapsed": false
   },
   "outputs": [],
   "source": [
    "print(\"mean: \",scores.mean())"
   ]
  },
  {
   "cell_type": "markdown",
   "metadata": {},
   "source": [
    "## Feature Importance for Random Forest"
   ]
  },
  {
   "cell_type": "code",
   "execution_count": null,
   "metadata": {
    "collapsed": false
   },
   "outputs": [],
   "source": [
    "importances= model2.feature_importances_\n",
    "\n",
    "d={'Feature Names': Features.columns, 'Importance': importances}\n",
    "features = pd.DataFrame(data=d)\n",
    "features.sort('Importance', ascending=False)"
   ]
  },
  {
   "cell_type": "markdown",
   "metadata": {},
   "source": [
    "Importance of features in Random Forest Classifier. We see that \"age\", \"married\", and \"education\" are the most influential"
   ]
  },
  {
   "cell_type": "markdown",
   "metadata": {},
   "source": [
    "## Logistic Regression\n",
    "This ended up being my highest performing classifier. Logistic Regression does very well when trying to do binary classifications. Although the concept isn't the most complicated, it gets the job done well."
   ]
  },
  {
   "cell_type": "code",
   "execution_count": null,
   "metadata": {
    "collapsed": false
   },
   "outputs": [],
   "source": [
    "model3 = LogisticRegression()\n",
    "\n",
    "model3.fit(Xtrain, ytrain)\n",
    "predicted=model3.predict(Xtest)\n",
    "\n",
    "accuracy_score(predicted,ytest)"
   ]
  },
  {
   "cell_type": "code",
   "execution_count": null,
   "metadata": {
    "collapsed": false
   },
   "outputs": [],
   "source": [
    "scores=cross_val_score(model3, Features, Target, cv=5)\n",
    "scores"
   ]
  },
  {
   "cell_type": "code",
   "execution_count": null,
   "metadata": {
    "collapsed": false
   },
   "outputs": [],
   "source": [
    "print(\"mean: \",scores.mean())"
   ]
  },
  {
   "cell_type": "code",
   "execution_count": null,
   "metadata": {
    "collapsed": false
   },
   "outputs": [],
   "source": [
    "print(metrics.classification_report(ytest, predicted))"
   ]
  },
  {
   "cell_type": "code",
   "execution_count": null,
   "metadata": {
    "collapsed": false
   },
   "outputs": [],
   "source": [
    "coefs=pd.DataFrame([zip(Features.columns, np.transpose(model3.coef_))])\n",
    "coefs.transpose()"
   ]
  },
  {
   "cell_type": "markdown",
   "metadata": {},
   "source": [
    "Coefficients of the Logistic Regression. We see that \"Married\",\"Occupation\",\"Education\" are influential factors"
   ]
  },
  {
   "cell_type": "markdown",
   "metadata": {},
   "source": [
    "## Suport Vector Machine\n",
    "    Takes a very long time to train data. Didn't give the best results"
   ]
  },
  {
   "cell_type": "code",
   "execution_count": null,
   "metadata": {
    "collapsed": false
   },
   "outputs": [],
   "source": [
    "model4 = svm.SVC(kernel='rbf')\n",
    "model4.fit(Xtrain, ytrain)\n",
    "\n",
    "predicted=model4.predict(Xtest)\n",
    "accuracy_score(predicted,ytest)"
   ]
  },
  {
   "cell_type": "code",
   "execution_count": null,
   "metadata": {
    "collapsed": false
   },
   "outputs": [],
   "source": [
    "scores=cross_val_score(model4, Features, Target, cv=3)\n",
    "print(scores)\n",
    "\n",
    "print(\"mean: \",scores.mean())"
   ]
  },
  {
   "cell_type": "markdown",
   "metadata": {},
   "source": [
    "# Conclusion\n",
    "\n",
    "Our most successful models are Randomom Forests and Logistic Regression. Out of the two, I would go with logistic regression because it takes less time to train. \n",
    "\n",
    "Our other 2 classifiers were only slightly less efficient. Using any of the 4 models, we would expect to see about 80% accuracy given the inputs of the model. We see that age, education, marital status, and occupation are the most influential factors depending on what model you decide to use. \n",
    "\n",
    "Given more time, I would experiement with interaction terms, normalizing features, and come up with a more rigorus approach to decide what features to include "
   ]
  }
 ],
 "metadata": {
  "kernelspec": {
   "display_name": "Python 3",
   "language": "python",
   "name": "python3"
  },
  "language_info": {
   "codemirror_mode": {
    "name": "ipython",
    "version": 3
   },
   "file_extension": ".py",
   "mimetype": "text/x-python",
   "name": "python",
   "nbconvert_exporter": "python",
   "pygments_lexer": "ipython3",
   "version": "3.5.2"
  }
 },
 "nbformat": 4,
 "nbformat_minor": 2
}
